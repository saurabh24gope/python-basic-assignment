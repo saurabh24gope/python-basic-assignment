{
  "nbformat": 4,
  "nbformat_minor": 0,
  "metadata": {
    "colab": {
      "provenance": []
    },
    "kernelspec": {
      "name": "python3",
      "display_name": "Python 3"
    },
    "language_info": {
      "name": "python"
    }
  },
  "cells": [
    {
      "cell_type": "markdown",
      "source": [
        "**PYTHON BASIC ASSIGNMENTS**"
      ],
      "metadata": {
        "id": "jjJmNQMNMaDq"
      }
    },
    {
      "cell_type": "markdown",
      "source": [
        "1.What is Python and why is it popular?\n",
        "\n",
        "->Python is a programming language.It is popular because it is easy to understand and write,it is compatible with various programming paradigms.such as procedural,object-oriented and functional programming,it has large and active community of developers,an extensive standard library ,and third party packages for various domains."
      ],
      "metadata": {
        "id": "_6fBJcHCM1r5"
      }
    },
    {
      "cell_type": "markdown",
      "source": [
        "2.What is an Interpreter in Python?\n",
        "\n",
        "->It is a program that reads and executes Python code line by line.instead of compiling the entire program into machine code like compiler does,Python interpreter translates each line of code into machine instructions at runtime."
      ],
      "metadata": {
        "id": "vRoVTCECOakw"
      }
    },
    {
      "cell_type": "markdown",
      "source": [
        "3.What are pre-defined keywords in Python?\n",
        "\n",
        "->keywords are reserved words in Python that have special meanings and cannot be used as a identifiers(variable names,function names etc)\n",
        "examples - if,else,while,for,def,class,import,try,except,return,True,False,None,etc."
      ],
      "metadata": {
        "id": "kjKoxoQ_qbP0"
      }
    },
    {
      "cell_type": "markdown",
      "source": [
        "4.Can Keywords be used as variable names?\n",
        "\n",
        "->No"
      ],
      "metadata": {
        "id": "bYXdQzEarrFA"
      }
    },
    {
      "cell_type": "markdown",
      "source": [
        "5.What is mutablility in Python?\n",
        "\n",
        "->Objects in Python which can be changeable or editable are mutable objects.Mutability affects how objects are stored and mainipulated in memory,impacting performance,memory usage and concurrency in Python programs.\n",
        "examples- lists and dictionary"
      ],
      "metadata": {
        "id": "l7HKDZ4Dr4DN"
      }
    },
    {
      "cell_type": "markdown",
      "source": [
        "6.Why are lists mutable,but tuples are immutable?\n",
        "\n",
        "->lists values or state can be changed after they are created.It is designed to hold collection of items.but tuples values or state can be changed after they are created.Tuples reperesent fixed collections.They are used for faster access and safer sharing."
      ],
      "metadata": {
        "id": "B2i7AxhZvKY5"
      }
    },
    {
      "cell_type": "markdown",
      "source": [
        "7.What are difference between \"==\" and \"is\" operators in python?\n",
        "\n",
        "->\"==\" is comparison operator.It is used to compare two values and return a boolean value.It compares the content of two variables.\n",
        "ex - a=[1,2,3] b=[1,2,3] print(a==b) output- True\n",
        "\n",
        "\"is\" operator is identity operator.It checks whether two varible point to the exact same object in memory.It compares the identity(address) not the content.\n",
        "ex - a=b=[1,2,3] print(a is b ) output - True"
      ],
      "metadata": {
        "id": "_nDl31-3xdsV"
      }
    },
    {
      "cell_type": "markdown",
      "source": [
        "8.What are logical operators in Python?\n",
        "\n",
        "->Logical operators are used to combine conditional statements and return Boolean values.(and,or or not)"
      ],
      "metadata": {
        "id": "mqEonSXV1NS4"
      }
    },
    {
      "cell_type": "markdown",
      "source": [
        "9. what is typecasting in Python?\n",
        "\n",
        "->Type Casting also referred as type conversion,is the process of changing one data type to another in Python"
      ],
      "metadata": {
        "id": "xcATwFET2YvU"
      }
    },
    {
      "cell_type": "markdown",
      "source": [
        "10.What is the difference between implicit and explicit typecasting?\n",
        "\n",
        "-> Implicit typecasting done automatically by Python.Python safely converts one data type to another without data loss.\n",
        "ex = 2+3.5=5.5 # float\n",
        "\n",
        "Expilict Typecasting done manually by programmer using functions like int(),float(),str()etc.used when you forcefully want to convert one type to another.\n",
        "x=\"123\" y=(int)x"
      ],
      "metadata": {
        "id": "07Vs1qcn3KlF"
      }
    },
    {
      "cell_type": "markdown",
      "source": [
        "11.What is the purpose of conditional statements in Python?\n",
        "\n",
        "->Conditionals are used to execute the code based on evaluation of one or more conditions.\n",
        "ex-if,else ,if elif,nested if else etc"
      ],
      "metadata": {
        "id": "ZngADj2O5YQX"
      }
    },
    {
      "cell_type": "markdown",
      "source": [
        "12.How does the elif statements work?\n",
        "\n",
        "->we use elif(sort for else if) when we have to check multiple  after an initial if.\n",
        "Python check the if condition first.if its false it checks each elif condition in order.if none elif condition evaluates to True the else block runs.\n"
      ],
      "metadata": {
        "id": "HEdsEbq56Nbm"
      }
    },
    {
      "cell_type": "markdown",
      "source": [
        "13.what is the difference between for and while loops?\n",
        "\n",
        "-> While loop repetedly execute a block of code until a specific condition becomes false and number of iteration is not fixed whereas for loop iterates over a sequence of elements and number of iteration is fixed."
      ],
      "metadata": {
        "id": "q1vAL-cx7r34"
      }
    },
    {
      "cell_type": "markdown",
      "source": [
        "14.Describe a scenario where a while loop is more suitable than a for loop?\n",
        "\n",
        "->A while loop is more appropriate when you don't know in advance how many times the loop should run.It continues based on a condition,not a fixed number of iterations.for example,you are asking for password and you want to keep prompting until they get it right."
      ],
      "metadata": {
        "id": "NbdxkiI88Y1D"
      }
    },
    {
      "cell_type": "markdown",
      "source": [
        "**Practical Questions**"
      ],
      "metadata": {
        "id": "L2DI-9_p_XtD"
      }
    },
    {
      "cell_type": "markdown",
      "source": [
        "1.Write a python program to print \"Hello,World!\""
      ],
      "metadata": {
        "id": "eqA8_bDz_y10"
      }
    },
    {
      "cell_type": "code",
      "source": [
        "print(\"Hello,World\")"
      ],
      "metadata": {
        "colab": {
          "base_uri": "https://localhost:8080/"
        },
        "id": "cLEJvs4exa-c",
        "outputId": "181ec82a-912d-4f2d-d0e5-693125d7589c"
      },
      "execution_count": null,
      "outputs": [
        {
          "output_type": "stream",
          "name": "stdout",
          "text": [
            "Hello,World\n"
          ]
        }
      ]
    },
    {
      "cell_type": "code",
      "source": [
        "name = input(\"Enter your name:\")\n",
        "age = int(input(\"Enter your age:\"))"
      ],
      "metadata": {
        "colab": {
          "base_uri": "https://localhost:8080/"
        },
        "id": "e8ds4je0ARoi",
        "outputId": "38fd0fa9-1749-4c03-f09e-27ad32a3f5ae"
      },
      "execution_count": null,
      "outputs": [
        {
          "name": "stdout",
          "output_type": "stream",
          "text": [
            "Enter your name:Saurabh\n",
            "Enter your age:38\n"
          ]
        }
      ]
    },
    {
      "cell_type": "code",
      "source": [
        "import keyword\n",
        "\n",
        "keywords=keyword.kwlist\n",
        "\n",
        "for i in keywords:\n",
        "  print(i)\n",
        "\n"
      ],
      "metadata": {
        "colab": {
          "base_uri": "https://localhost:8080/"
        },
        "id": "FshHYbzjBylb",
        "outputId": "23eb7e71-0ff1-46ae-8d8f-765af15d4b3d"
      },
      "execution_count": null,
      "outputs": [
        {
          "output_type": "stream",
          "name": "stdout",
          "text": [
            "False\n",
            "None\n",
            "True\n",
            "and\n",
            "as\n",
            "assert\n",
            "async\n",
            "await\n",
            "break\n",
            "class\n",
            "continue\n",
            "def\n",
            "del\n",
            "elif\n",
            "else\n",
            "except\n",
            "finally\n",
            "for\n",
            "from\n",
            "global\n",
            "if\n",
            "import\n",
            "in\n",
            "is\n",
            "lambda\n",
            "nonlocal\n",
            "not\n",
            "or\n",
            "pass\n",
            "raise\n",
            "return\n",
            "try\n",
            "while\n",
            "with\n",
            "yield\n"
          ]
        }
      ]
    },
    {
      "cell_type": "code",
      "source": [
        "import keyword\n",
        "\n",
        "word = input(\"Enter a word:\")\n",
        "\n",
        "if keyword.iskeyword(word):\n",
        "  print(f\"'{word}'is a Python Keyword.\")\n",
        "else:\n",
        "  print(f\"'{word}'is not a Python Keyword.\")"
      ],
      "metadata": {
        "colab": {
          "base_uri": "https://localhost:8080/"
        },
        "id": "m_EyyXgDDhZK",
        "outputId": "300bd402-a9a9-4480-a66d-75ec692c927a"
      },
      "execution_count": null,
      "outputs": [
        {
          "output_type": "stream",
          "name": "stdout",
          "text": [
            "Enter a word:if\n",
            "'if'is a Python Keyword.\n"
          ]
        }
      ]
    },
    {
      "cell_type": "code",
      "source": [
        "mylist=[1,\"saurabh\",True,22.5]\n",
        "print(mylist)"
      ],
      "metadata": {
        "colab": {
          "base_uri": "https://localhost:8080/"
        },
        "id": "K4aINh-uEpzn",
        "outputId": "adb7cf53-198a-4cca-d12c-feedd60ab172"
      },
      "execution_count": null,
      "outputs": [
        {
          "output_type": "stream",
          "name": "stdout",
          "text": [
            "[1, 'saurabh', True, 22.5]\n"
          ]
        }
      ]
    },
    {
      "cell_type": "code",
      "source": [
        "mylist[0]=6\n",
        "print(mylist)"
      ],
      "metadata": {
        "colab": {
          "base_uri": "https://localhost:8080/"
        },
        "id": "zIrPP17DFGEZ",
        "outputId": "270a9355-b5e2-467e-9cce-055312eba1f3"
      },
      "execution_count": null,
      "outputs": [
        {
          "output_type": "stream",
          "name": "stdout",
          "text": [
            "[6, 'saurabh', True, 22.5]\n"
          ]
        }
      ]
    },
    {
      "cell_type": "code",
      "source": [
        "mytuple = (1,\"saurabh\",True,22.5)\n",
        "print(mytuple)"
      ],
      "metadata": {
        "colab": {
          "base_uri": "https://localhost:8080/"
        },
        "id": "KEATeo_zFPT9",
        "outputId": "0b91acfb-f4a1-48e7-d631-d67bd0d9e7e1"
      },
      "execution_count": null,
      "outputs": [
        {
          "output_type": "stream",
          "name": "stdout",
          "text": [
            "(1, 'saurabh', True, 22.5)\n"
          ]
        }
      ]
    },
    {
      "cell_type": "code",
      "source": [
        "mytuple[0]=6"
      ],
      "metadata": {
        "colab": {
          "base_uri": "https://localhost:8080/",
          "height": 141
        },
        "id": "7uOimO7DGqvW",
        "outputId": "1e37638f-9852-43b1-e0a8-596c76432673"
      },
      "execution_count": null,
      "outputs": [
        {
          "output_type": "error",
          "ename": "TypeError",
          "evalue": "'tuple' object does not support item assignment",
          "traceback": [
            "\u001b[0;31m---------------------------------------------------------------------------\u001b[0m",
            "\u001b[0;31mTypeError\u001b[0m                                 Traceback (most recent call last)",
            "\u001b[0;32m<ipython-input-10-a04603e8d747>\u001b[0m in \u001b[0;36m<cell line: 0>\u001b[0;34m()\u001b[0m\n\u001b[0;32m----> 1\u001b[0;31m \u001b[0mmytuple\u001b[0m\u001b[0;34m[\u001b[0m\u001b[0;36m0\u001b[0m\u001b[0;34m]\u001b[0m\u001b[0;34m=\u001b[0m\u001b[0;36m6\u001b[0m\u001b[0;34m\u001b[0m\u001b[0;34m\u001b[0m\u001b[0m\n\u001b[0m",
            "\u001b[0;31mTypeError\u001b[0m: 'tuple' object does not support item assignment"
          ]
        }
      ]
    },
    {
      "cell_type": "code",
      "source": [
        "def modify_arguments(immutable_arg,mutable_arg):\n",
        "  immutable_arg+=10\n",
        "  print(\"Inside the function-immutable_arg:\",immutable_arg)\n",
        "  mutable_arg.append(100)\n",
        "  print(\"Inside the function-mutable_arg\",mutable_arg)\n",
        "\n",
        "#immutable object:integer\n",
        "x=5\n",
        "#mutable object:list\n",
        "y=[1,2,3]\n",
        "#call the function\n",
        "modify_arguments(x,y)\n",
        "\n",
        "print(\"outside the function-immutable_arg:\",x)\n",
        "print(\"outside the function-mutable_arg:\",y)"
      ],
      "metadata": {
        "colab": {
          "base_uri": "https://localhost:8080/"
        },
        "id": "O9T6doS6GzKI",
        "outputId": "5656605b-f736-4c9a-f6e2-6dcb0644e15c"
      },
      "execution_count": null,
      "outputs": [
        {
          "output_type": "stream",
          "name": "stdout",
          "text": [
            "Inside the function-immutable_arg: 15\n",
            "Inside the function-mutable_arg [1, 2, 3, 100]\n",
            "outside the function-immutable_arg: 5\n",
            "outside the function-mutable_arg: [1, 2, 3, 100]\n"
          ]
        }
      ]
    },
    {
      "cell_type": "code",
      "source": [
        "#arithmetic operations\n",
        "a=int(input(\"Enter first number:\"))\n",
        "b=int(input(\"Enter second Number:\"))\n",
        "add=a+b\n",
        "print(add)"
      ],
      "metadata": {
        "id": "X0xKQQEbJ-Ke",
        "colab": {
          "base_uri": "https://localhost:8080/"
        },
        "outputId": "67cadf17-7410-4184-c3c8-5e5477cfc97d"
      },
      "execution_count": 7,
      "outputs": [
        {
          "output_type": "stream",
          "name": "stdout",
          "text": [
            "Enter first number:5\n",
            "Enter second Number:6\n",
            "11\n"
          ]
        }
      ]
    },
    {
      "cell_type": "code",
      "source": [
        "age=input(\"Enter your age:\")"
      ],
      "metadata": {
        "colab": {
          "base_uri": "https://localhost:8080/"
        },
        "id": "-TSfWhkGzg6u",
        "outputId": "59f175ab-0019-4b24-eb8e-853dc27da2d3"
      },
      "execution_count": 2,
      "outputs": [
        {
          "name": "stdout",
          "output_type": "stream",
          "text": [
            "Enter your age:25\n"
          ]
        }
      ]
    },
    {
      "cell_type": "code",
      "source": [
        "\n",
        "type(age)"
      ],
      "metadata": {
        "colab": {
          "base_uri": "https://localhost:8080/"
        },
        "id": "wIQeMFO9oXrp",
        "outputId": "7f6efbfb-cd35-4bb2-ca9d-789a4fa5aa4b"
      },
      "execution_count": 4,
      "outputs": [
        {
          "output_type": "execute_result",
          "data": {
            "text/plain": [
              "str"
            ]
          },
          "metadata": {},
          "execution_count": 4
        }
      ]
    },
    {
      "cell_type": "code",
      "source": [
        "a=int(age)\n",
        "type(a)"
      ],
      "metadata": {
        "colab": {
          "base_uri": "https://localhost:8080/"
        },
        "id": "PQWxEqXJo7GV",
        "outputId": "a40e7976-1a1c-46d7-9186-3710f45d9d28"
      },
      "execution_count": 5,
      "outputs": [
        {
          "output_type": "execute_result",
          "data": {
            "text/plain": [
              "int"
            ]
          },
          "metadata": {},
          "execution_count": 5
        }
      ]
    },
    {
      "cell_type": "code",
      "source": [
        "b=bool(age)\n",
        "type(b)"
      ],
      "metadata": {
        "colab": {
          "base_uri": "https://localhost:8080/"
        },
        "id": "1bGMkby5pIeQ",
        "outputId": "60c88ea0-662a-40f4-fcd3-3bbd6b60a0eb"
      },
      "execution_count": 6,
      "outputs": [
        {
          "output_type": "execute_result",
          "data": {
            "text/plain": [
              "bool"
            ]
          },
          "metadata": {},
          "execution_count": 6
        }
      ]
    },
    {
      "cell_type": "code",
      "source": [
        "mylist=[1,2,3,4]\n",
        "print(type(mylist))"
      ],
      "metadata": {
        "colab": {
          "base_uri": "https://localhost:8080/"
        },
        "id": "xHsXi4TgpNsp",
        "outputId": "40016c64-1131-4a86-8abb-cc19b6f96632"
      },
      "execution_count": 9,
      "outputs": [
        {
          "output_type": "stream",
          "name": "stdout",
          "text": [
            "<class 'list'>\n"
          ]
        }
      ]
    },
    {
      "cell_type": "code",
      "source": [
        "#typecasting in list\n",
        "str_list=[\"1\",\"2\",\"3\",\"4\"]\n",
        "int_list=[int(item) for item in str_list]\n",
        "print(int_list)\n",
        "float_list=[float(item) for item in int_list]\n",
        "print(float_list)\n",
        "str_list=[str(item) for item in float_list]\n",
        "print(str_list)\n"
      ],
      "metadata": {
        "colab": {
          "base_uri": "https://localhost:8080/"
        },
        "id": "zHnr2znJpi2s",
        "outputId": "33eaac70-35be-4523-c561-5bd016c314cb"
      },
      "execution_count": 17,
      "outputs": [
        {
          "output_type": "stream",
          "name": "stdout",
          "text": [
            "[1, 2, 3, 4]\n",
            "[1.0, 2.0, 3.0, 4.0]\n",
            "['1.0', '2.0', '3.0', '4.0']\n"
          ]
        }
      ]
    },
    {
      "cell_type": "code",
      "source": [
        "#check number is positive,negative or zero\n",
        "x=2\n",
        "if(x>0):\n",
        "  print(\"number is positive\")\n",
        "elif(x<0):\n",
        "  print(\"number is negative\")\n",
        "else:\n",
        "  print(\"number is zero\")"
      ],
      "metadata": {
        "colab": {
          "base_uri": "https://localhost:8080/"
        },
        "id": "0mwyoqs2q3Jq",
        "outputId": "94b41431-0642-49be-f77d-172905696ce7"
      },
      "execution_count": 18,
      "outputs": [
        {
          "output_type": "stream",
          "name": "stdout",
          "text": [
            "number is positive\n"
          ]
        }
      ]
    },
    {
      "cell_type": "code",
      "source": [
        "#print number 1 to 10\n",
        "for i in range(1,11):\n",
        "  print(i)\n"
      ],
      "metadata": {
        "colab": {
          "base_uri": "https://localhost:8080/"
        },
        "id": "YvYVyg5fuKIb",
        "outputId": "cc1588a7-39f9-4406-ed49-39590662ab06"
      },
      "execution_count": 21,
      "outputs": [
        {
          "output_type": "stream",
          "name": "stdout",
          "text": [
            "1\n",
            "2\n",
            "3\n",
            "4\n",
            "5\n",
            "6\n",
            "7\n",
            "8\n",
            "9\n",
            "10\n"
          ]
        }
      ]
    },
    {
      "cell_type": "code",
      "source": [
        "#sum of all even numbers between 1 and 50\n",
        "sum = 0\n",
        "for i in range(1,51):\n",
        "  if(i%2==0):\n",
        "    sum+=i\n",
        "print(\"sum of even numbers between 1 and 50:\",sum)"
      ],
      "metadata": {
        "colab": {
          "base_uri": "https://localhost:8080/"
        },
        "id": "Ht7Fwplouihj",
        "outputId": "9f01acc1-d018-46e7-f880-89b01167629a"
      },
      "execution_count": 23,
      "outputs": [
        {
          "output_type": "stream",
          "name": "stdout",
          "text": [
            "sum of even numbers between 1 and 50: 650\n"
          ]
        }
      ]
    },
    {
      "cell_type": "code",
      "source": [
        "#reverse a string using while loop\n",
        "str=\"physics\"\n",
        "reverse_str=\"\"\n",
        "index = len(str)-1\n",
        "while index>=0:\n",
        "  reverse_str += str[index]\n",
        "  index-=1\n",
        "print(\"reverse string is:\",reverse_str)"
      ],
      "metadata": {
        "colab": {
          "base_uri": "https://localhost:8080/"
        },
        "id": "BxofJbhxvqMj",
        "outputId": "356adca9-9e4f-4dc6-ef81-9ea5d403b912"
      },
      "execution_count": 24,
      "outputs": [
        {
          "output_type": "stream",
          "name": "stdout",
          "text": [
            "reverse string is: scisyhp\n"
          ]
        }
      ]
    },
    {
      "cell_type": "code",
      "source": [
        "#factorial of a number\n",
        "num=int(input(\"Enter a number:\"))\n",
        "factorial=1\n",
        "i=1\n",
        "while i<=num:\n",
        "  factorial *= i\n",
        "  i += 1\n",
        "print(f\"factorial of {num} is:{factorial}\")\n",
        "\n"
      ],
      "metadata": {
        "colab": {
          "base_uri": "https://localhost:8080/"
        },
        "id": "QNH_9IezxCNu",
        "outputId": "d157bcbf-f248-4ead-d171-4c8325f3e106"
      },
      "execution_count": 25,
      "outputs": [
        {
          "output_type": "stream",
          "name": "stdout",
          "text": [
            "Enter a number:5\n",
            "factorial of 5 is:120\n"
          ]
        }
      ]
    },
    {
      "cell_type": "code",
      "source": [],
      "metadata": {
        "id": "5lBEZpQiyQTi"
      },
      "execution_count": null,
      "outputs": []
    }
  ]
}